{
 "cells": [
  {
   "cell_type": "code",
   "execution_count": 1,
   "metadata": {},
   "outputs": [
    {
     "name": "stderr",
     "output_type": "stream",
     "text": [
      "Using TensorFlow backend.\n"
     ]
    }
   ],
   "source": [
    "from keras.models import Sequential\n",
    "from keras.layers.core import Dense, Dropout, Activation\n",
    "from keras.optimizers import Adam \n",
    "from keras.utils import np_utils\n",
    " \n",
    "from keras.utils.vis_utils import plot_model\n",
    "import matplotlib.pyplot as plt"
   ]
  },
  {
   "cell_type": "code",
   "execution_count": 2,
   "metadata": {
    "collapsed": true
   },
   "outputs": [],
   "source": [
    "def load_mnist(path, kind='train'):\n",
    "    import os\n",
    "    import gzip\n",
    "    import numpy as np\n",
    "\n",
    "    \"\"\"Load MNIST data from `path`\"\"\"\n",
    "    labels_path = os.path.join(path,\n",
    "                               '%s-labels-idx1-ubyte.gz'\n",
    "                               % kind)\n",
    "    images_path = os.path.join(path,\n",
    "                               '%s-images-idx3-ubyte.gz'\n",
    "                               % kind)\n",
    "\n",
    "    with gzip.open(labels_path, 'rb') as lbpath:\n",
    "        labels = np.frombuffer(lbpath.read(), dtype=np.uint8,\n",
    "                               offset=8)\n",
    "\n",
    "    with gzip.open(images_path, 'rb') as imgpath:\n",
    "        images = np.frombuffer(imgpath.read(), dtype=np.uint8,\n",
    "                               offset=16).reshape(len(labels), 784)\n",
    "\n",
    "    return images, labels"
   ]
  },
  {
   "cell_type": "markdown",
   "metadata": {},
   "source": [
    "### モデルの作成"
   ]
  },
  {
   "cell_type": "code",
   "execution_count": 4,
   "metadata": {
    "collapsed": true
   },
   "outputs": [],
   "source": [
    "def build_model():\n",
    "    # モデルの作成\n",
    "    model = Sequential()\n",
    "    model.add(Dense(512, input_shape=(784,)))\n",
    "    model.add(Activation('relu'))\n",
    "    model.add(Dropout(0.2))\n",
    " \n",
    "    model.add(Dense(512))\n",
    "    model.add(Activation('relu'))\n",
    "    model.add(Dropout(0.2))\n",
    " \n",
    "    model.add(Dense(10))\n",
    "    model.add(Activation('softmax'))\n",
    " \n",
    "    # 損失関数の定義\n",
    "    model.compile(\n",
    "        loss='categorical_crossentropy',\n",
    "        optimizer=Adam(),\n",
    "        metrics=['accuracy'])\n",
    "    \n",
    "    return model"
   ]
  },
  {
   "cell_type": "markdown",
   "metadata": {},
   "source": [
    "### plot用関数"
   ]
  },
  {
   "cell_type": "code",
   "execution_count": 5,
   "metadata": {
    "collapsed": true
   },
   "outputs": [],
   "source": [
    "def plot_history(history):\n",
    "    # 精度の履歴をプロット\n",
    "    plt.plot(history.history['acc'],\"o-\",label=\"accuracy\")\n",
    "    plt.plot(history.history['val_acc'],\"o-\",label=\"val_acc\")\n",
    "    plt.title('model accuracy')\n",
    "    plt.xlabel('epoch')\n",
    "    plt.ylabel('accuracy')\n",
    "    plt.legend(loc=\"lower right\")\n",
    "    plt.show()\n",
    " \n",
    "    # 損失の履歴をプロット\n",
    "    plt.plot(history.history['loss'],\"o-\",label=\"loss\",)\n",
    "    plt.plot(history.history['val_loss'],\"o-\",label=\"val_loss\")\n",
    "    plt.title('model loss')\n",
    "    plt.xlabel('epoch')\n",
    "    plt.ylabel('loss')\n",
    "    plt.legend(loc='lower right')\n",
    "    plt.show()"
   ]
  },
  {
   "cell_type": "markdown",
   "metadata": {},
   "source": [
    "### データセットの読み込み"
   ]
  },
  {
   "cell_type": "code",
   "execution_count": 7,
   "metadata": {},
   "outputs": [],
   "source": [
    "#　MNISTのデータの読み込み\n",
    "# 訓練データ６万件、テストデータ１万件\n",
    "# 28ピクセル × 28ピクセル = 784ピクセルのデータ\n",
    "# 色は0〜255\n",
    "X_train, y_train = load_mnist('./data/fashion', kind='train')\n",
    "X_test, y_test = load_mnist('./data/fashion', kind='t10k')\n",
    "X_train = X_train.reshape(60000, 784).astype('float32')\n",
    "X_test  = X_test.reshape(10000, 784).astype('float32')\n",
    "X_train /= 255\n",
    "X_test  /= 255"
   ]
  },
  {
   "cell_type": "code",
   "execution_count": 8,
   "metadata": {
    "collapsed": true
   },
   "outputs": [],
   "source": [
    "# 10次元配列に変換　//数字の５ならこんな感じ[0,0,0,0,1,0,0,0,0,0]\n",
    "y_train = np_utils.to_categorical(y_train, 10)\n",
    "y_test  = np_utils.to_categorical(y_test, 10)"
   ]
  },
  {
   "cell_type": "code",
   "execution_count": 9,
   "metadata": {
    "collapsed": true
   },
   "outputs": [],
   "source": [
    "nb_epoch = 50 #学習させる回数. pytyonのnb_epochとはrangeの繰り返しのこと\n",
    "batch_size = 128 #無作為に128画像取得。128という数字に理論的な根拠は考慮していない"
   ]
  },
  {
   "cell_type": "code",
   "execution_count": 10,
   "metadata": {},
   "outputs": [
    {
     "name": "stderr",
     "output_type": "stream",
     "text": [
      "/Users/kubota/.pyenv/versions/anaconda3-4.4.0/lib/python3.6/site-packages/keras/models.py:848: UserWarning: The `nb_epoch` argument in `fit` has been renamed `epochs`.\n",
      "  warnings.warn('The `nb_epoch` argument in `fit` '\n"
     ]
    },
    {
     "name": "stdout",
     "output_type": "stream",
     "text": [
      "Train on 60000 samples, validate on 10000 samples\n",
      "Epoch 1/50\n",
      "60000/60000 [==============================] - 17s - loss: 0.5161 - acc: 0.8141 - val_loss: 0.4205 - val_acc: 0.8460\n",
      "Epoch 2/50\n",
      "60000/60000 [==============================] - 15s - loss: 0.3808 - acc: 0.8610 - val_loss: 0.3691 - val_acc: 0.8650\n",
      "Epoch 3/50\n",
      "60000/60000 [==============================] - 15s - loss: 0.3483 - acc: 0.8711 - val_loss: 0.3599 - val_acc: 0.8711\n",
      "Epoch 4/50\n",
      "60000/60000 [==============================] - 16s - loss: 0.3257 - acc: 0.8789 - val_loss: 0.3460 - val_acc: 0.8703\n",
      "Epoch 5/50\n",
      "60000/60000 [==============================] - 15s - loss: 0.3067 - acc: 0.8868 - val_loss: 0.3840 - val_acc: 0.8653\n",
      "Epoch 6/50\n",
      "60000/60000 [==============================] - 15s - loss: 0.2973 - acc: 0.8897 - val_loss: 0.3317 - val_acc: 0.8779\n",
      "Epoch 7/50\n",
      "60000/60000 [==============================] - 15s - loss: 0.2878 - acc: 0.8922 - val_loss: 0.3329 - val_acc: 0.8800\n",
      "Epoch 8/50\n",
      "60000/60000 [==============================] - 15s - loss: 0.2770 - acc: 0.8965 - val_loss: 0.3136 - val_acc: 0.8870\n",
      "Epoch 9/50\n",
      "60000/60000 [==============================] - 15s - loss: 0.2694 - acc: 0.8987 - val_loss: 0.3166 - val_acc: 0.8843\n",
      "Epoch 10/50\n",
      "60000/60000 [==============================] - 15s - loss: 0.2623 - acc: 0.9013 - val_loss: 0.3100 - val_acc: 0.8903\n",
      "Epoch 11/50\n",
      "60000/60000 [==============================] - 15s - loss: 0.2545 - acc: 0.9047 - val_loss: 0.3076 - val_acc: 0.8894\n",
      "Epoch 12/50\n",
      "60000/60000 [==============================] - 15s - loss: 0.2503 - acc: 0.9044 - val_loss: 0.3099 - val_acc: 0.8907\n",
      "Epoch 13/50\n",
      "60000/60000 [==============================] - 15s - loss: 0.2437 - acc: 0.9066 - val_loss: 0.3308 - val_acc: 0.8809.906\n",
      "Epoch 14/50\n",
      "60000/60000 [==============================] - 15s - loss: 0.2363 - acc: 0.9095 - val_loss: 0.3186 - val_acc: 0.8885\n",
      "Epoch 15/50\n",
      "60000/60000 [==============================] - 15s - loss: 0.2296 - acc: 0.9129 - val_loss: 0.3159 - val_acc: 0.8885\n",
      "Epoch 16/50\n",
      "60000/60000 [==============================] - 15s - loss: 0.2274 - acc: 0.9133 - val_loss: 0.3036 - val_acc: 0.8939\n",
      "Epoch 17/50\n",
      "60000/60000 [==============================] - 15s - loss: 0.2200 - acc: 0.9161 - val_loss: 0.3175 - val_acc: 0.8917\n",
      "Epoch 18/50\n",
      "60000/60000 [==============================] - 15s - loss: 0.2187 - acc: 0.9163 - val_loss: 0.3095 - val_acc: 0.8965\n",
      "Epoch 19/50\n",
      "60000/60000 [==============================] - 15s - loss: 0.2124 - acc: 0.9189 - val_loss: 0.3135 - val_acc: 0.8926\n",
      "Epoch 20/50\n",
      "60000/60000 [==============================] - 15s - loss: 0.2095 - acc: 0.9209 - val_loss: 0.3113 - val_acc: 0.8933\n",
      "Epoch 21/50\n",
      "60000/60000 [==============================] - 15s - loss: 0.2060 - acc: 0.9219 - val_loss: 0.3161 - val_acc: 0.8919\n",
      "Epoch 22/50\n",
      "60000/60000 [==============================] - 15s - loss: 0.2012 - acc: 0.9226 - val_loss: 0.3178 - val_acc: 0.8927\n",
      "Epoch 23/50\n",
      "60000/60000 [==============================] - 15s - loss: 0.1988 - acc: 0.9241 - val_loss: 0.3131 - val_acc: 0.8921\n",
      "Epoch 24/50\n",
      "60000/60000 [==============================] - 15s - loss: 0.1914 - acc: 0.9262 - val_loss: 0.3270 - val_acc: 0.8905\n",
      "Epoch 25/50\n",
      "60000/60000 [==============================] - 15s - loss: 0.1893 - acc: 0.9266 - val_loss: 0.3381 - val_acc: 0.8916\n",
      "Epoch 26/50\n",
      "60000/60000 [==============================] - 15s - loss: 0.1900 - acc: 0.9264 - val_loss: 0.3199 - val_acc: 0.8952\n",
      "Epoch 27/50\n",
      "60000/60000 [==============================] - 15s - loss: 0.1840 - acc: 0.9288 - val_loss: 0.3248 - val_acc: 0.8944\n",
      "Epoch 28/50\n",
      "60000/60000 [==============================] - 15s - loss: 0.1786 - acc: 0.9315 - val_loss: 0.3289 - val_acc: 0.8946\n",
      "Epoch 29/50\n",
      "60000/60000 [==============================] - 15s - loss: 0.1797 - acc: 0.9316 - val_loss: 0.3255 - val_acc: 0.8958\n",
      "Epoch 30/50\n",
      "60000/60000 [==============================] - 15s - loss: 0.1735 - acc: 0.9334 - val_loss: 0.3117 - val_acc: 0.8972\n",
      "Epoch 31/50\n",
      "60000/60000 [==============================] - 16s - loss: 0.1734 - acc: 0.9328 - val_loss: 0.3255 - val_acc: 0.8948\n",
      "Epoch 32/50\n",
      "60000/60000 [==============================] - 16s - loss: 0.1704 - acc: 0.9353 - val_loss: 0.3171 - val_acc: 0.8953\n",
      "Epoch 33/50\n",
      "60000/60000 [==============================] - 16s - loss: 0.1684 - acc: 0.9346 - val_loss: 0.3219 - val_acc: 0.8976\n",
      "Epoch 34/50\n",
      "60000/60000 [==============================] - 15s - loss: 0.1644 - acc: 0.9365 - val_loss: 0.3435 - val_acc: 0.8941\n",
      "Epoch 35/50\n",
      "60000/60000 [==============================] - 18s - loss: 0.1624 - acc: 0.9376 - val_loss: 0.3423 - val_acc: 0.8972\n",
      "Epoch 36/50\n",
      "60000/60000 [==============================] - 16s - loss: 0.1585 - acc: 0.9382 - val_loss: 0.3342 - val_acc: 0.8886\n",
      "Epoch 37/50\n",
      "60000/60000 [==============================] - 16s - loss: 0.1585 - acc: 0.9392 - val_loss: 0.3271 - val_acc: 0.8981s - loss: 0.1580 - acc: 0\n",
      "Epoch 38/50\n",
      "60000/60000 [==============================] - 16s - loss: 0.1550 - acc: 0.9399 - val_loss: 0.3272 - val_acc: 0.8988\n",
      "Epoch 39/50\n",
      "60000/60000 [==============================] - 15s - loss: 0.1534 - acc: 0.9406 - val_loss: 0.3372 - val_acc: 0.8987\n",
      "Epoch 40/50\n",
      "60000/60000 [==============================] - 16s - loss: 0.1526 - acc: 0.9408 - val_loss: 0.3350 - val_acc: 0.8974\n",
      "Epoch 41/50\n",
      "60000/60000 [==============================] - 16s - loss: 0.1549 - acc: 0.9397 - val_loss: 0.3276 - val_acc: 0.9015\n",
      "Epoch 42/50\n",
      "60000/60000 [==============================] - 16s - loss: 0.1480 - acc: 0.9420 - val_loss: 0.3396 - val_acc: 0.8973\n",
      "Epoch 43/50\n",
      "60000/60000 [==============================] - 16s - loss: 0.1466 - acc: 0.9434 - val_loss: 0.3278 - val_acc: 0.9017\n",
      "Epoch 44/50\n",
      "60000/60000 [==============================] - 16s - loss: 0.1421 - acc: 0.9453 - val_loss: 0.3352 - val_acc: 0.8963\n",
      "Epoch 45/50\n",
      "60000/60000 [==============================] - 15s - loss: 0.1450 - acc: 0.9445 - val_loss: 0.3362 - val_acc: 0.9031\n",
      "Epoch 46/50\n",
      "60000/60000 [==============================] - 16s - loss: 0.1369 - acc: 0.9466 - val_loss: 0.3558 - val_acc: 0.8975\n",
      "Epoch 47/50\n",
      "60000/60000 [==============================] - 16s - loss: 0.1380 - acc: 0.9470 - val_loss: 0.3435 - val_acc: 0.9018\n",
      "Epoch 48/50\n",
      "60000/60000 [==============================] - 16s - loss: 0.1370 - acc: 0.9465 - val_loss: 0.3494 - val_acc: 0.8977\n",
      "Epoch 49/50\n",
      "60000/60000 [==============================] - 16s - loss: 0.1377 - acc: 0.9476 - val_loss: 0.3496 - val_acc: 0.8969\n",
      "Epoch 50/50\n",
      "60000/60000 [==============================] - 16s - loss: 0.1356 - acc: 0.9483 - val_loss: 0.3470 - val_acc: 0.9028\n"
     ]
    }
   ],
   "source": [
    "# データで訓練 今回は時間省略のため2回で学習する\n",
    "model = build_model()\n",
    "history = model.fit(X_train, y_train, \n",
    "    nb_epoch=nb_epoch, \n",
    "    batch_size=batch_size,\n",
    "    validation_data=(X_test, y_test)\n",
    ")"
   ]
  },
  {
   "cell_type": "code",
   "execution_count": 11,
   "metadata": {},
   "outputs": [
    {
     "name": "stdout",
     "output_type": "stream",
     "text": [
      " 9952/10000 [============================>.] - ETA: 0sloss= 0.347022763997\n",
      "accuracy= 0.9028\n"
     ]
    },
    {
     "data": {
      "image/png": "[encoded data removed]",
      "text/plain": [
       "<matplotlib.figure.Figure at 0x13382d320>"
      ]
     },
     "metadata": {},
     "output_type": "display_data"
    },
    {
     "data": {
      "image/png": "[encoded data removed]",
      "text/plain": [
       "<matplotlib.figure.Figure at 0x133a228d0>"
      ]
     },
     "metadata": {},
     "output_type": "display_data"
    }
   ],
   "source": [
    "#学習モデルの保存\n",
    "json_string = model.to_json()\n",
    "\n",
    "#モデルのファイル名　拡張子.json\n",
    "open('mnist.json', 'w').write(json_string)\n",
    "#重みファイルの保存 拡張子がhdf5\n",
    "model.save_weights('out/mnist.hdf5')\n",
    " \n",
    "# モデルの評価を行う\n",
    "score = model.evaluate(X_test, y_test, verbose=1)\n",
    " \n",
    "print('loss=', score[0])\n",
    "print('accuracy=', score[1])\n",
    "    \n",
    "# modelに学習させた時の変化の様子をplot\n",
    "plot_history(history)"
   ]
  },
  {
   "cell_type": "code",
   "execution_count": null,
   "metadata": {
    "collapsed": true
   },
   "outputs": [],
   "source": []
  }
 ],
 "metadata": {
  "kernelspec": {
   "display_name": "Python 3",
   "language": "python",
   "name": "python3"
  },
  "language_info": {
   "codemirror_mode": {
    "name": "ipython",
    "version": 3
   },
   "file_extension": ".py",
   "mimetype": "text/x-python",
   "name": "python",
   "nbconvert_exporter": "python",
   "pygments_lexer": "ipython3",
   "version": "3.6.1"
  }
 },
 "nbformat": 4,
 "nbformat_minor": 2
}
