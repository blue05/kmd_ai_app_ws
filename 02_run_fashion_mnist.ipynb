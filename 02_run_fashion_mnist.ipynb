{
 "cells": [
  {
   "cell_type": "code",
   "execution_count": 1,
   "metadata": {},
   "outputs": [
    {
     "name": "stderr",
     "output_type": "stream",
     "text": [
      "Using TensorFlow backend.\n"
     ]
    }
   ],
   "source": [
    "from keras.models import Sequential\n",
    "from keras.layers.core import Dense, Dropout, Activation\n",
    "from keras.optimizers import Adam \n",
    "from keras.utils import np_utils\n",
    " \n",
    "from keras.utils.vis_utils import plot_model\n",
    "import matplotlib.pyplot as plt"
   ]
  },
  {
   "cell_type": "code",
   "execution_count": 2,
   "metadata": {
    "collapsed": true
   },
   "outputs": [],
   "source": [
    "def load_mnist(path, kind='train'):\n",
    "    import os\n",
    "    import gzip\n",
    "    import numpy as np\n",
    "\n",
    "    \"\"\"Load MNIST data from `path`\"\"\"\n",
    "    labels_path = os.path.join(path,\n",
    "                               '%s-labels-idx1-ubyte.gz'\n",
    "                               % kind)\n",
    "    images_path = os.path.join(path,\n",
    "                               '%s-images-idx3-ubyte.gz'\n",
    "                               % kind)\n",
    "\n",
    "    with gzip.open(labels_path, 'rb') as lbpath:\n",
    "        labels = np.frombuffer(lbpath.read(), dtype=np.uint8,\n",
    "                               offset=8)\n",
    "\n",
    "    with gzip.open(images_path, 'rb') as imgpath:\n",
    "        images = np.frombuffer(imgpath.read(), dtype=np.uint8,\n",
    "                               offset=16).reshape(len(labels), 784)\n",
    "\n",
    "    return images, labels"
   ]
  },
  {
   "cell_type": "markdown",
   "metadata": {},
   "source": [
    "### モデルの作成"
   ]
  },
  {
   "cell_type": "code",
   "execution_count": 3,
   "metadata": {
    "collapsed": true
   },
   "outputs": [],
   "source": [
    "def build_model():\n",
    "    # モデルの作成\n",
    "    model = Sequential()\n",
    "    model.add(Dense(512, input_shape=(784,)))\n",
    "    model.add(Activation('relu'))\n",
    "    model.add(Dropout(0.2))\n",
    " \n",
    "    model.add(Dense(512))\n",
    "    model.add(Activation('relu'))\n",
    "    model.add(Dropout(0.2))\n",
    " \n",
    "    model.add(Dense(10))\n",
    "    model.add(Activation('softmax'))\n",
    " \n",
    "    # 損失関数の定義\n",
    "    model.compile(\n",
    "        loss='categorical_crossentropy',\n",
    "        optimizer=Adam(),\n",
    "        metrics=['accuracy'])\n",
    "    \n",
    "    return model"
   ]
  },
  {
   "cell_type": "markdown",
   "metadata": {},
   "source": [
    "### plot用関数"
   ]
  },
  {
   "cell_type": "code",
   "execution_count": 4,
   "metadata": {
    "collapsed": true
   },
   "outputs": [],
   "source": [
    "def plot_history(history):\n",
    "    # 精度の履歴をプロット\n",
    "    plt.plot(history.history['acc'],\"o-\",label=\"accuracy\")\n",
    "    plt.plot(history.history['val_acc'],\"o-\",label=\"val_acc\")\n",
    "    plt.title('model accuracy')\n",
    "    plt.xlabel('epoch')\n",
    "    plt.ylabel('accuracy')\n",
    "    plt.legend(loc=\"lower right\")\n",
    "    plt.show()\n",
    " \n",
    "    # 損失の履歴をプロット\n",
    "    plt.plot(history.history['loss'],\"o-\",label=\"loss\",)\n",
    "    plt.plot(history.history['val_loss'],\"o-\",label=\"val_loss\")\n",
    "    plt.title('model loss')\n",
    "    plt.xlabel('epoch')\n",
    "    plt.ylabel('loss')\n",
    "    plt.legend(loc='lower right')\n",
    "    plt.show()"
   ]
  },
  {
   "cell_type": "markdown",
   "metadata": {},
   "source": [
    "### データセットの読み込み"
   ]
  },
  {
   "cell_type": "code",
   "execution_count": 5,
   "metadata": {
    "collapsed": true
   },
   "outputs": [],
   "source": [
    "#　MNISTのデータの読み込み\n",
    "# 訓練データ６万件、テストデータ１万件\n",
    "# 28ピクセル × 28ピクセル = 784ピクセルのデータ\n",
    "# 色は0〜255\n",
    "X_train, y_train = load_mnist('./data/fashion', kind='train')\n",
    "X_test, y_test = load_mnist('./data/fashion', kind='t10k')\n",
    "X_train = X_train.reshape(60000, 784).astype('float32')\n",
    "X_test  = X_test.reshape(10000, 784).astype('float32')\n",
    "X_train /= 255\n",
    "X_test  /= 255"
   ]
  },
  {
   "cell_type": "code",
   "execution_count": 6,
   "metadata": {
    "collapsed": true
   },
   "outputs": [],
   "source": [
    "# 10次元配列に変換　//数字の５ならこんな感じ[0,0,0,0,1,0,0,0,0,0]\n",
    "y_train = np_utils.to_categorical(y_train, 10)\n",
    "y_test  = np_utils.to_categorical(y_test, 10)"
   ]
  },
  {
   "cell_type": "code",
   "execution_count": 7,
   "metadata": {
    "collapsed": true
   },
   "outputs": [],
   "source": [
    "nb_epoch = 50 #学習させる回数. pytyonのnb_epochとはrangeの繰り返しのこと\n",
    "batch_size = 128 #無作為に128画像取得。128という数字に理論的な根拠は考慮していない"
   ]
  },
  {
   "cell_type": "code",
   "execution_count": 8,
   "metadata": {},
   "outputs": [
    {
     "name": "stderr",
     "output_type": "stream",
     "text": [
      "/Users/kubota/.pyenv/versions/anaconda3-4.4.0/lib/python3.6/site-packages/keras/models.py:848: UserWarning: The `nb_epoch` argument in `fit` has been renamed `epochs`.\n",
      "  warnings.warn('The `nb_epoch` argument in `fit` '\n"
     ]
    },
    {
     "name": "stdout",
     "output_type": "stream",
     "text": [
      "Train on 60000 samples, validate on 10000 samples\n",
      "Epoch 1/50\n",
      "60000/60000 [==============================] - 11s - loss: 0.5141 - acc: 0.8155 - val_loss: 0.4199 - val_acc: 0.8506\n",
      "Epoch 2/50\n",
      "60000/60000 [==============================] - 11s - loss: 0.3802 - acc: 0.8597 - val_loss: 0.3778 - val_acc: 0.8608\n",
      "Epoch 3/50\n",
      "60000/60000 [==============================] - 10s - loss: 0.3486 - acc: 0.8708 - val_loss: 0.3531 - val_acc: 0.8711\n",
      "Epoch 4/50\n",
      "60000/60000 [==============================] - 12s - loss: 0.3278 - acc: 0.8789 - val_loss: 0.3470 - val_acc: 0.8759\n",
      "Epoch 5/50\n",
      "60000/60000 [==============================] - 10s - loss: 0.3096 - acc: 0.8857 - val_loss: 0.3454 - val_acc: 0.8769\n",
      "Epoch 6/50\n",
      "60000/60000 [==============================] - 11s - loss: 0.2968 - acc: 0.8898 - val_loss: 0.3446 - val_acc: 0.8745\n",
      "Epoch 7/50\n",
      "60000/60000 [==============================] - 13s - loss: 0.2857 - acc: 0.8937 - val_loss: 0.3281 - val_acc: 0.8782\n",
      "Epoch 8/50\n",
      "60000/60000 [==============================] - 15s - loss: 0.2759 - acc: 0.8965 - val_loss: 0.3332 - val_acc: 0.8821\n",
      "Epoch 9/50\n",
      "60000/60000 [==============================] - 9s - loss: 0.2661 - acc: 0.8992 - val_loss: 0.3252 - val_acc: 0.8858\n",
      "Epoch 10/50\n",
      "60000/60000 [==============================] - 10s - loss: 0.2616 - acc: 0.9022 - val_loss: 0.3230 - val_acc: 0.8867\n",
      "Epoch 11/50\n",
      "60000/60000 [==============================] - 13s - loss: 0.2561 - acc: 0.9039 - val_loss: 0.3337 - val_acc: 0.8852\n",
      "Epoch 12/50\n",
      "60000/60000 [==============================] - 11s - loss: 0.2475 - acc: 0.9070 - val_loss: 0.3030 - val_acc: 0.8914\n",
      "Epoch 13/50\n",
      "60000/60000 [==============================] - 13s - loss: 0.2403 - acc: 0.9086 - val_loss: 0.3161 - val_acc: 0.8866\n",
      "Epoch 14/50\n",
      "60000/60000 [==============================] - 11s - loss: 0.2384 - acc: 0.9094 - val_loss: 0.3166 - val_acc: 0.8873\n",
      "Epoch 15/50\n",
      "60000/60000 [==============================] - 13s - loss: 0.2336 - acc: 0.9101 - val_loss: 0.3074 - val_acc: 0.8895\n",
      "Epoch 16/50\n",
      "60000/60000 [==============================] - 12s - loss: 0.2280 - acc: 0.9124 - val_loss: 0.3056 - val_acc: 0.8906\n",
      "Epoch 17/50\n",
      "60000/60000 [==============================] - 13s - loss: 0.2210 - acc: 0.9165 - val_loss: 0.3272 - val_acc: 0.8864\n",
      "Epoch 18/50\n",
      "60000/60000 [==============================] - 11s - loss: 0.2169 - acc: 0.9181 - val_loss: 0.3082 - val_acc: 0.8945\n",
      "Epoch 19/50\n",
      "60000/60000 [==============================] - 11s - loss: 0.2104 - acc: 0.9195 - val_loss: 0.3157 - val_acc: 0.8924\n",
      "Epoch 20/50\n",
      "60000/60000 [==============================] - 11s - loss: 0.2061 - acc: 0.9209 - val_loss: 0.3081 - val_acc: 0.8958\n",
      "Epoch 21/50\n",
      "60000/60000 [==============================] - 11s - loss: 0.2033 - acc: 0.9224 - val_loss: 0.3230 - val_acc: 0.8947\n",
      "Epoch 22/50\n",
      "60000/60000 [==============================] - 10s - loss: 0.2019 - acc: 0.9234 - val_loss: 0.3242 - val_acc: 0.8928\n",
      "Epoch 23/50\n",
      "60000/60000 [==============================] - 11s - loss: 0.1948 - acc: 0.9259 - val_loss: 0.3253 - val_acc: 0.8893\n",
      "Epoch 24/50\n",
      "60000/60000 [==============================] - 11s - loss: 0.1961 - acc: 0.9243 - val_loss: 0.3227 - val_acc: 0.8918\n",
      "Epoch 25/50\n",
      "60000/60000 [==============================] - 10s - loss: 0.1873 - acc: 0.9274 - val_loss: 0.3103 - val_acc: 0.8971\n",
      "Epoch 26/50\n",
      "60000/60000 [==============================] - 10s - loss: 0.1846 - acc: 0.9294 - val_loss: 0.3261 - val_acc: 0.8939\n",
      "Epoch 27/50\n",
      "60000/60000 [==============================] - 11s - loss: 0.1845 - acc: 0.9287 - val_loss: 0.3346 - val_acc: 0.8953\n",
      "Epoch 28/50\n",
      "60000/60000 [==============================] - 10s - loss: 0.1812 - acc: 0.9302 - val_loss: 0.3109 - val_acc: 0.8975\n",
      "Epoch 29/50\n",
      "60000/60000 [==============================] - 11s - loss: 0.1747 - acc: 0.9321 - val_loss: 0.3350 - val_acc: 0.8972\n",
      "Epoch 30/50\n",
      "60000/60000 [==============================] - 10s - loss: 0.1759 - acc: 0.9321 - val_loss: 0.3392 - val_acc: 0.8950\n",
      "Epoch 31/50\n",
      "60000/60000 [==============================] - 11s - loss: 0.1714 - acc: 0.9334 - val_loss: 0.3287 - val_acc: 0.8979\n",
      "Epoch 32/50\n",
      "60000/60000 [==============================] - 12s - loss: 0.1681 - acc: 0.9357 - val_loss: 0.3412 - val_acc: 0.8977\n",
      "Epoch 33/50\n",
      "60000/60000 [==============================] - 11s - loss: 0.1661 - acc: 0.9366 - val_loss: 0.3320 - val_acc: 0.8949\n",
      "Epoch 34/50\n",
      "60000/60000 [==============================] - 9s - loss: 0.1651 - acc: 0.9360 - val_loss: 0.3239 - val_acc: 0.9009\n",
      "Epoch 35/50\n",
      "60000/60000 [==============================] - 10s - loss: 0.1591 - acc: 0.9385 - val_loss: 0.3362 - val_acc: 0.9002\n",
      "Epoch 36/50\n",
      "60000/60000 [==============================] - 9s - loss: 0.1606 - acc: 0.9386 - val_loss: 0.3263 - val_acc: 0.8996\n",
      "Epoch 37/50\n",
      "60000/60000 [==============================] - 9s - loss: 0.1527 - acc: 0.9412 - val_loss: 0.3559 - val_acc: 0.8999\n",
      "Epoch 38/50\n",
      "60000/60000 [==============================] - 9s - loss: 0.1566 - acc: 0.9413 - val_loss: 0.3359 - val_acc: 0.8974\n",
      "Epoch 39/50\n",
      "60000/60000 [==============================] - 9s - loss: 0.1533 - acc: 0.9409 - val_loss: 0.3553 - val_acc: 0.8974\n",
      "Epoch 40/50\n",
      "60000/60000 [==============================] - 9s - loss: 0.1515 - acc: 0.9413 - val_loss: 0.3480 - val_acc: 0.8965\n",
      "Epoch 41/50\n",
      "60000/60000 [==============================] - 9s - loss: 0.1446 - acc: 0.9442 - val_loss: 0.3281 - val_acc: 0.9038\n",
      "Epoch 42/50\n",
      "60000/60000 [==============================] - 9s - loss: 0.1464 - acc: 0.9433 - val_loss: 0.3479 - val_acc: 0.9000\n",
      "Epoch 43/50\n",
      "60000/60000 [==============================] - 9s - loss: 0.1444 - acc: 0.9450 - val_loss: 0.3572 - val_acc: 0.9005\n",
      "Epoch 44/50\n",
      "60000/60000 [==============================] - 10s - loss: 0.1429 - acc: 0.9450 - val_loss: 0.3571 - val_acc: 0.8966\n",
      "Epoch 45/50\n",
      "60000/60000 [==============================] - 10s - loss: 0.1401 - acc: 0.9463 - val_loss: 0.3572 - val_acc: 0.9007\n",
      "Epoch 46/50\n",
      "60000/60000 [==============================] - 10s - loss: 0.1387 - acc: 0.9465 - val_loss: 0.3551 - val_acc: 0.8976\n",
      "Epoch 47/50\n",
      "60000/60000 [==============================] - 10s - loss: 0.1382 - acc: 0.9461 - val_loss: 0.3469 - val_acc: 0.8987\n",
      "Epoch 48/50\n",
      "60000/60000 [==============================] - 11s - loss: 0.1408 - acc: 0.9454 - val_loss: 0.3517 - val_acc: 0.9007\n",
      "Epoch 49/50\n",
      "60000/60000 [==============================] - 11s - loss: 0.1346 - acc: 0.9492 - val_loss: 0.3744 - val_acc: 0.9000\n",
      "Epoch 50/50\n",
      "60000/60000 [==============================] - 11s - loss: 0.1327 - acc: 0.9490 - val_loss: 0.3625 - val_acc: 0.9011\n"
     ]
    }
   ],
   "source": [
    "# データで訓練\n",
    "model = build_model()\n",
    "history = model.fit(X_train, y_train, \n",
    "    nb_epoch=nb_epoch, \n",
    "    batch_size=batch_size,\n",
    "    validation_data=(X_test, y_test)\n",
    ")"
   ]
  },
  {
   "cell_type": "code",
   "execution_count": 9,
   "metadata": {},
   "outputs": [
    {
     "name": "stdout",
     "output_type": "stream",
     "text": [
      " 9824/10000 [============================>.] - ETA: 0sloss= 0.362501607373\n",
      "accuracy= 0.9011\n"
     ]
    },
    {
     "data": {
      "image/png": "[encoded data removed]",
      "text/plain": [
       "<matplotlib.figure.Figure at 0x11e38c080>"
      ]
     },
     "metadata": {},
     "output_type": "display_data"
    },
    {
     "data": {
      "image/png": "[encoded data removed]",
      "text/plain": [
       "<matplotlib.figure.Figure at 0x12d3f2e80>"
      ]
     },
     "metadata": {},
     "output_type": "display_data"
    }
   ],
   "source": [
    "#学習モデルの保存\n",
    "json_string = model.to_json()\n",
    "\n",
    "#モデルのファイル名　拡張子.json\n",
    "open('mnist.json', 'w').write(json_string)\n",
    "#重みファイルの保存 拡張子がhdf5\n",
    "model.save_weights('out/mnist.hdf5')\n",
    " \n",
    "# モデルの評価を行う\n",
    "score = model.evaluate(X_test, y_test, verbose=1)\n",
    " \n",
    "print('loss=', score[0])\n",
    "print('accuracy=', score[1])\n",
    "    \n",
    "# modelに学習させた時の変化の様子をplot\n",
    "plot_history(history)"
   ]
  },
  {
   "cell_type": "code",
   "execution_count": null,
   "metadata": {
    "collapsed": true
   },
   "outputs": [],
   "source": []
  }
 ],
 "metadata": {
  "kernelspec": {
   "display_name": "Python 3",
   "language": "python",
   "name": "python3"
  },
  "language_info": {
   "codemirror_mode": {
    "name": "ipython",
    "version": 3
   },
   "file_extension": ".py",
   "mimetype": "text/x-python",
   "name": "python",
   "nbconvert_exporter": "python",
   "pygments_lexer": "ipython3",
   "version": "3.6.1"
  }
 },
 "nbformat": 4,
 "nbformat_minor": 2
}
