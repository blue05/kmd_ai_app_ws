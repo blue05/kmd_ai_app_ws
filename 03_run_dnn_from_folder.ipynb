{
 "cells": [
  {
   "cell_type": "markdown",
   "metadata": {},
   "source": [
    "# ディレクトリ内の画像ファイルを元にディープラーニング"
   ]
  },
  {
   "cell_type": "code",
   "execution_count": 1,
   "metadata": {},
   "outputs": [],
   "source": [
    "import os\n",
    "import numpy as np\n",
    "import cv2\n",
    "\n",
    "TRAIN_DIR = './data/flickr_logos_27_dataset_cropped_augmented_images/'\n",
    "\n",
    "NUM_CLASSES = 27 # 分類するクラス数\n",
    "IMG_SIZE = 32 # 画像の1辺の長さ\n",
    "\n",
    "# 画像のあるディレクトリ\n",
    "train_img_dirs = ['Adidas','Apple','BMW','Citroen','Cocacola','DHL','Fedex','Ferrari','Ford','Google','Heineken','HP','Intel','McDonalds','Mini','Nbc','Nike','Pepsi','Porsche','Puma','RedBull','Sprite','Starbucks','Texaco','Unicef','Vodafone','Yahoo']\n"
   ]
  },
  {
   "cell_type": "code",
   "execution_count": 2,
   "metadata": {
    "collapsed": true
   },
   "outputs": [],
   "source": [
    "def load_data():\n",
    "\n",
    "    # 学習画像データ\n",
    "    images = []\n",
    "    # 学習データのラベル\n",
    "    labels = []\n",
    "\n",
    "    for i, d in enumerate(train_img_dirs):\n",
    "        # ./data/以下の各ディレクトリ内のファイル名取得\n",
    "        files = os.listdir(TRAIN_DIR + d)\n",
    "        for f in files:\n",
    "            # 画像読み込み\n",
    "            img = cv2.imread(TRAIN_DIR + d + '/' + f)\n",
    "            # 1辺がIMG_SIZEの正方形にリサイズ\n",
    "            img = cv2.resize(img, (IMG_SIZE, IMG_SIZE))\n",
    "            # 1列にして\n",
    "            img = img.flatten().astype(np.float32)/255.0\n",
    "            images.append(img)\n",
    "\n",
    "            # one_hot_vectorを作りラベルとして追加\n",
    "            tmp = np.zeros(NUM_CLASSES)\n",
    "            tmp[i] = 1\n",
    "            labels.append(tmp)\n",
    "\n",
    "    # numpy配列に変換\n",
    "    images = np.asarray(images)\n",
    "    labels = np.asarray(labels)\n",
    "    \n",
    "    return images, labels"
   ]
  },
  {
   "cell_type": "markdown",
   "metadata": {},
   "source": [
    "#### モデルの作成"
   ]
  },
  {
   "cell_type": "code",
   "execution_count": 3,
   "metadata": {
    "collapsed": true
   },
   "outputs": [],
   "source": [
    "def build_model():\n",
    "    # モデルの作成\n",
    "    model = Sequential()\n",
    "    #model.add(Dense(512, input_shape=(784,)))\n",
    "    model.add(Dense(512, input_shape=(3072,)))\n",
    "    model.add(Activation('relu'))\n",
    "    model.add(Dropout(0.2))\n",
    " \n",
    "    model.add(Dense(512))\n",
    "    model.add(Activation('relu'))\n",
    "    model.add(Dropout(0.2))\n",
    " \n",
    "    model.add(Dense(10))\n",
    "    model.add(Activation('softmax'))\n",
    " \n",
    "    # 損失関数の定義\n",
    "    model.compile(\n",
    "        loss='categorical_crossentropy',\n",
    "        optimizer=Adam(),\n",
    "        metrics=['accuracy'])\n",
    "    \n",
    "    return model"
   ]
  },
  {
   "cell_type": "markdown",
   "metadata": {},
   "source": [
    "#### plot用関数"
   ]
  },
  {
   "cell_type": "code",
   "execution_count": 4,
   "metadata": {
    "collapsed": true
   },
   "outputs": [],
   "source": [
    "def plot_history(history):\n",
    "    # 精度の履歴をプロット\n",
    "    plt.plot(history.history['acc'],\"o-\",label=\"accuracy\")\n",
    "    plt.plot(history.history['val_acc'],\"o-\",label=\"val_acc\")\n",
    "    plt.title('model accuracy')\n",
    "    plt.xlabel('epoch')\n",
    "    plt.ylabel('accuracy')\n",
    "    plt.legend(loc=\"lower right\")\n",
    "    plt.show()\n",
    " \n",
    "    # 損失の履歴をプロット\n",
    "    plt.plot(history.history['loss'],\"o-\",label=\"loss\",)\n",
    "    plt.plot(history.history['val_loss'],\"o-\",label=\"val_loss\")\n",
    "    plt.title('model loss')\n",
    "    plt.xlabel('epoch')\n",
    "    plt.ylabel('loss')\n",
    "    plt.legend(loc='lower right')\n",
    "    plt.show()"
   ]
  },
  {
   "cell_type": "markdown",
   "metadata": {},
   "source": [
    "### 機械学習開始"
   ]
  },
  {
   "cell_type": "code",
   "execution_count": null,
   "metadata": {},
   "outputs": [
    {
     "name": "stderr",
     "output_type": "stream",
     "text": [
      "Using TensorFlow backend.\n"
     ]
    }
   ],
   "source": [
    "from keras.models import Sequential\n",
    "from keras.layers.core import Dense, Dropout, Activation\n",
    "from keras.optimizers import Adam \n",
    "from keras.utils import np_utils\n",
    " \n",
    "from keras.utils.vis_utils import plot_model\n",
    "import matplotlib.pyplot as plt"
   ]
  },
  {
   "cell_type": "code",
   "execution_count": null,
   "metadata": {},
   "outputs": [],
   "source": [
    "X, y = load_data()\n",
    "print('images',X)\n",
    "print('labels',y)"
   ]
  },
  {
   "cell_type": "markdown",
   "metadata": {},
   "source": [
    "### テストデータと教師データに分割"
   ]
  },
  {
   "cell_type": "code",
   "execution_count": null,
   "metadata": {
    "collapsed": true
   },
   "outputs": [],
   "source": [
    "from sklearn.model_selection import train_test_split\n",
    "X_train, X_test, y_train, y_test = train_test_split(X, y, train_size=0.8, random_state=1)"
   ]
  },
  {
   "cell_type": "markdown",
   "metadata": {},
   "source": [
    "### 機械学習の条件定義"
   ]
  },
  {
   "cell_type": "code",
   "execution_count": null,
   "metadata": {
    "collapsed": true
   },
   "outputs": [],
   "source": [
    "nb_epoch = 50 #学習させる回数. pytyonのnb_epochとはrangeの繰り返しのこと\n",
    "batch_size = 128 #無作為に128画像取得。128という数字に理論的な根拠は考慮していない"
   ]
  },
  {
   "cell_type": "code",
   "execution_count": null,
   "metadata": {},
   "outputs": [],
   "source": [
    "# データで訓練\n",
    "model = build_model()\n",
    "history = model.fit(X_train, y_train, \n",
    "    nb_epoch=nb_epoch, \n",
    "    batch_size=batch_size,\n",
    "    validation_data=(X_test, y_test)\n",
    ")"
   ]
  },
  {
   "cell_type": "code",
   "execution_count": null,
   "metadata": {
    "collapsed": true
   },
   "outputs": [],
   "source": [
    "#学習モデルの保存\n",
    "json_string = model.to_json()\n",
    "\n",
    "#モデルのファイル名　拡張子.json\n",
    "open('mnist.json', 'w').write(json_string)\n",
    "#重みファイルの保存 拡張子がhdf5\n",
    "model.save_weights('out/mnist.hdf5')\n",
    " \n",
    "# モデルの評価を行う\n",
    "score = model.evaluate(X_test, y_test, verbose=1)\n",
    " \n",
    "print('loss=', score[0])\n",
    "print('accuracy=', score[1])\n",
    "    \n",
    "# modelに学習させた時の変化の様子をplot\n",
    "plot_history(history)"
   ]
  },
  {
   "cell_type": "code",
   "execution_count": null,
   "metadata": {
    "collapsed": true
   },
   "outputs": [],
   "source": []
  }
 ],
 "metadata": {
  "kernelspec": {
   "display_name": "Python 3",
   "language": "python",
   "name": "python3"
  },
  "language_info": {
   "codemirror_mode": {
    "name": "ipython",
    "version": 3
   },
   "file_extension": ".py",
   "mimetype": "text/x-python",
   "name": "python",
   "nbconvert_exporter": "python",
   "pygments_lexer": "ipython3",
   "version": "3.6.1"
  }
 },
 "nbformat": 4,
 "nbformat_minor": 2
}
