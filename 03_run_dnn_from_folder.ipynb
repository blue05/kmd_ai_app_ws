{
 "cells": [
  {
   "cell_type": "markdown",
   "metadata": {},
   "source": [
    "# ディレクトリ内の画像ファイルを元にディープラーニング"
   ]
  },
  {
   "cell_type": "code",
   "execution_count": 1,
   "metadata": {},
   "outputs": [],
   "source": [
    "import os\n",
    "import numpy as np\n",
    "import cv2\n",
    "\n",
    "TRAIN_DIR = './data/flickr_logos_27_dataset_cropped_augmented_images/'\n",
    "\n",
    "NUM_CLASSES = 27 # 分類するクラス数\n",
    "IMG_SIZE = 32 # 画像の1辺の長さ\n",
    "\n",
    "# 画像のあるディレクトリ\n",
    "train_img_dirs = ['Adidas','Apple','BMW','Citroen','Cocacola','DHL','Fedex','Ferrari','Ford','Google','Heineken','HP','Intel','McDonalds','Mini','Nbc','Nike','Pepsi','Porsche','Puma','RedBull','Sprite','Starbucks','Texaco','Unicef','Vodafone','Yahoo']\n"
   ]
  },
  {
   "cell_type": "code",
   "execution_count": 2,
   "metadata": {
    "collapsed": true
   },
   "outputs": [],
   "source": [
    "def load_data():\n",
    "\n",
    "    # 学習画像データ\n",
    "    images = []\n",
    "    # 学習データのラベル\n",
    "    labels = []\n",
    "\n",
    "    for i, d in enumerate(train_img_dirs):\n",
    "        # ./data/以下の各ディレクトリ内のファイル名取得\n",
    "        files = os.listdir(TRAIN_DIR + d)\n",
    "        for f in files:\n",
    "            # 画像読み込み\n",
    "            img = cv2.imread(TRAIN_DIR + d + '/' + f)\n",
    "            # 1辺がIMG_SIZEの正方形にリサイズ\n",
    "            img = cv2.resize(img, (IMG_SIZE, IMG_SIZE))\n",
    "            # 1列にして\n",
    "            img = img.flatten().astype(np.float32)/255.0\n",
    "            images.append(img)\n",
    "\n",
    "            # one_hot_vectorを作りラベルとして追加\n",
    "            tmp = np.zeros(NUM_CLASSES)\n",
    "            tmp[i] = 1\n",
    "            labels.append(tmp)\n",
    "\n",
    "    # numpy配列に変換\n",
    "    images = np.asarray(images)\n",
    "    labels = np.asarray(labels)\n",
    "    \n",
    "    return images, labels"
   ]
  },
  {
   "cell_type": "markdown",
   "metadata": {},
   "source": [
    "#### モデルの作成"
   ]
  },
  {
   "cell_type": "code",
   "execution_count": 3,
   "metadata": {
    "collapsed": true
   },
   "outputs": [],
   "source": [
    "def build_model():\n",
    "    # モデルの作成\n",
    "    model = Sequential()\n",
    "    #model.add(Dense(512, input_shape=(784,)))\n",
    "    model.add(Dense(512, input_shape=(3072,)))\n",
    "    model.add(Activation('relu'))\n",
    "    model.add(Dropout(0.2))\n",
    " \n",
    "    model.add(Dense(512))\n",
    "    model.add(Activation('relu'))\n",
    "    model.add(Dropout(0.2))\n",
    " \n",
    "    model.add(Dense(NUM_CLASSES))\n",
    "    model.add(Activation('softmax'))\n",
    " \n",
    "    # 損失関数の定義\n",
    "    model.compile(\n",
    "        loss='categorical_crossentropy',\n",
    "        optimizer=Adam(),\n",
    "        metrics=['accuracy'])\n",
    "    \n",
    "    return model"
   ]
  },
  {
   "cell_type": "markdown",
   "metadata": {},
   "source": [
    "#### plot用関数"
   ]
  },
  {
   "cell_type": "code",
   "execution_count": 4,
   "metadata": {
    "collapsed": true
   },
   "outputs": [],
   "source": [
    "def plot_history(history):\n",
    "    # 精度の履歴をプロット\n",
    "    plt.plot(history.history['acc'],\"o-\",label=\"accuracy\")\n",
    "    plt.plot(history.history['val_acc'],\"o-\",label=\"val_acc\")\n",
    "    plt.title('model accuracy')\n",
    "    plt.xlabel('epoch')\n",
    "    plt.ylabel('accuracy')\n",
    "    plt.legend(loc=\"lower right\")\n",
    "    plt.show()\n",
    " \n",
    "    # 損失の履歴をプロット\n",
    "    plt.plot(history.history['loss'],\"o-\",label=\"loss\",)\n",
    "    plt.plot(history.history['val_loss'],\"o-\",label=\"val_loss\")\n",
    "    plt.title('model loss')\n",
    "    plt.xlabel('epoch')\n",
    "    plt.ylabel('loss')\n",
    "    plt.legend(loc='lower right')\n",
    "    plt.show()"
   ]
  },
  {
   "cell_type": "markdown",
   "metadata": {},
   "source": [
    "### 機械学習開始"
   ]
  },
  {
   "cell_type": "code",
   "execution_count": 5,
   "metadata": {},
   "outputs": [
    {
     "name": "stderr",
     "output_type": "stream",
     "text": [
      "Using TensorFlow backend.\n"
     ]
    }
   ],
   "source": [
    "from keras.models import Sequential\n",
    "from keras.layers.core import Dense, Dropout, Activation\n",
    "from keras.optimizers import Adam \n",
    "from keras.utils import np_utils\n",
    " \n",
    "from keras.utils.vis_utils import plot_model\n",
    "import matplotlib.pyplot as plt"
   ]
  },
  {
   "cell_type": "code",
   "execution_count": 6,
   "metadata": {},
   "outputs": [
    {
     "name": "stdout",
     "output_type": "stream",
     "text": [
      "images [[ 1.          0.79607844  0.16862746 ...,  1.          0.73333335\n",
      "   0.17254902]\n",
      " [ 1.          0.76862746  0.20784314 ...,  0.95686275  0.74901962\n",
      "   0.14901961]\n",
      " [ 1.          0.73333335  0.27058825 ...,  1.          0.71372551\n",
      "   0.21568628]\n",
      " ..., \n",
      " [ 0.01568628  0.03137255  0.01176471 ...,  0.03529412  0.00784314\n",
      "   0.04705882]\n",
      " [ 0.45882353  0.40000001  0.98039216 ...,  1.          0.9254902   1.        ]\n",
      " [ 0.96862745  1.          0.92156863 ...,  1.          0.97647059  1.        ]]\n",
      "labels [[ 1.  0.  0. ...,  0.  0.  0.]\n",
      " [ 1.  0.  0. ...,  0.  0.  0.]\n",
      " [ 1.  0.  0. ...,  0.  0.  0.]\n",
      " ..., \n",
      " [ 0.  0.  0. ...,  0.  0.  1.]\n",
      " [ 0.  0.  0. ...,  0.  0.  1.]\n",
      " [ 0.  0.  0. ...,  0.  0.  1.]]\n"
     ]
    }
   ],
   "source": [
    "X, y = load_data()\n",
    "print('images',X)\n",
    "print('labels',y)"
   ]
  },
  {
   "cell_type": "markdown",
   "metadata": {},
   "source": [
    "### テストデータと教師データに分割"
   ]
  },
  {
   "cell_type": "code",
   "execution_count": 7,
   "metadata": {
    "collapsed": true
   },
   "outputs": [],
   "source": [
    "from sklearn.model_selection import train_test_split\n",
    "X_train, X_test, y_train, y_test = train_test_split(X, y, train_size=0.8, random_state=1)"
   ]
  },
  {
   "cell_type": "markdown",
   "metadata": {},
   "source": [
    "### 機械学習の条件定義"
   ]
  },
  {
   "cell_type": "code",
   "execution_count": null,
   "metadata": {
    "collapsed": true
   },
   "outputs": [],
   "source": [
    "nb_epoch = 50 #学習させる回数. pytyonのnb_epochとはrangeの繰り返しのこと\n",
    "batch_size = 128 #無作為に128画像取得。128という数字に理論的な根拠は考慮していない"
   ]
  },
  {
   "cell_type": "code",
   "execution_count": null,
   "metadata": {},
   "outputs": [
    {
     "name": "stderr",
     "output_type": "stream",
     "text": [
      "/Users/kubota/.pyenv/versions/anaconda3-4.4.0/lib/python3.6/site-packages/keras/models.py:848: UserWarning: The `nb_epoch` argument in `fit` has been renamed `epochs`.\n",
      "  warnings.warn('The `nb_epoch` argument in `fit` '\n"
     ]
    },
    {
     "name": "stdout",
     "output_type": "stream",
     "text": [
      "Train on 173990 samples, validate on 43498 samples\n",
      "Epoch 1/50\n",
      "173990/173990 [==============================] - 97s - loss: 1.3203 - acc: 0.6294 - val_loss: 0.6865 - val_acc: 0.8172\n",
      "Epoch 2/50\n",
      "173990/173990 [==============================] - 92s - loss: 0.7233 - acc: 0.7938 - val_loss: 0.4730 - val_acc: 0.8720\n",
      "Epoch 3/50\n",
      "173990/173990 [==============================] - 94s - loss: 0.5756 - acc: 0.8343 - val_loss: 0.3504 - val_acc: 0.9051\n",
      "Epoch 4/50\n",
      "173990/173990 [==============================] - 87s - loss: 0.4963 - acc: 0.8553 - val_loss: 0.2831 - val_acc: 0.9250\n",
      "Epoch 5/50\n",
      "173990/173990 [==============================] - 82s - loss: 0.4357 - acc: 0.8726 - val_loss: 0.2478 - val_acc: 0.9358\n",
      "Epoch 6/50\n",
      "173990/173990 [==============================] - 77s - loss: 0.4077 - acc: 0.8807 - val_loss: 0.2176 - val_acc: 0.9410\n",
      "Epoch 7/50\n",
      "173990/173990 [==============================] - 83s - loss: 0.3773 - acc: 0.8895 - val_loss: 0.2170 - val_acc: 0.9395\n",
      "Epoch 8/50\n",
      "173990/173990 [==============================] - 91s - loss: 0.3511 - acc: 0.8973 - val_loss: 0.1922 - val_acc: 0.9486\n",
      "Epoch 9/50\n",
      "173990/173990 [==============================] - 93s - loss: 0.3362 - acc: 0.9013 - val_loss: 0.1805 - val_acc: 0.9513\n",
      "Epoch 10/50\n",
      "173990/173990 [==============================] - 82s - loss: 0.3177 - acc: 0.9074 - val_loss: 0.1480 - val_acc: 0.9603\n",
      "Epoch 11/50\n",
      "173990/173990 [==============================] - 79s - loss: 0.3084 - acc: 0.9101 - val_loss: 0.1582 - val_acc: 0.9590\n",
      "Epoch 12/50\n",
      "173990/173990 [==============================] - 79s - loss: 0.2986 - acc: 0.9126 - val_loss: 0.1640 - val_acc: 0.9548\n",
      "Epoch 13/50\n",
      "173990/173990 [==============================] - 77s - loss: 0.2877 - acc: 0.9155 - val_loss: 0.1416 - val_acc: 0.9629\n",
      "Epoch 14/50\n",
      "173990/173990 [==============================] - 79s - loss: 0.2784 - acc: 0.9192 - val_loss: 0.1427 - val_acc: 0.9617\n",
      "Epoch 15/50\n",
      "173990/173990 [==============================] - 88s - loss: 0.2730 - acc: 0.9202 - val_loss: 0.1514 - val_acc: 0.9591\n",
      "Epoch 16/50\n",
      "173990/173990 [==============================] - 78s - loss: 0.2692 - acc: 0.9220 - val_loss: 0.1213 - val_acc: 0.9668\n",
      "Epoch 17/50\n",
      "173990/173990 [==============================] - 70s - loss: 0.2700 - acc: 0.9219 - val_loss: 0.1352 - val_acc: 0.9638\n",
      "Epoch 18/50\n",
      "173990/173990 [==============================] - 70s - loss: 0.2606 - acc: 0.9243 - val_loss: 0.1231 - val_acc: 0.9682\n",
      "Epoch 19/50\n",
      "173990/173990 [==============================] - 70s - loss: 0.2584 - acc: 0.9251 - val_loss: 0.1156 - val_acc: 0.9687\n",
      "Epoch 20/50\n",
      "173990/173990 [==============================] - 70s - loss: 0.2450 - acc: 0.9289 - val_loss: 0.1175 - val_acc: 0.9670\n",
      "Epoch 21/50\n",
      "173990/173990 [==============================] - 99s - loss: 0.2448 - acc: 0.9293 - val_loss: 0.1256 - val_acc: 0.9644\n",
      "Epoch 22/50\n",
      "173990/173990 [==============================] - 80s - loss: 0.2436 - acc: 0.9300 - val_loss: 0.1353 - val_acc: 0.9643\n",
      "Epoch 23/50\n",
      "173990/173990 [==============================] - 80s - loss: 0.2360 - acc: 0.9321 - val_loss: 0.1110 - val_acc: 0.9715\n",
      "Epoch 24/50\n",
      "173990/173990 [==============================] - 78s - loss: 0.2364 - acc: 0.9320 - val_loss: 0.1155 - val_acc: 0.9683\n",
      "Epoch 25/50\n",
      "173990/173990 [==============================] - 82s - loss: 0.2418 - acc: 0.9304 - val_loss: 0.0965 - val_acc: 0.9735\n",
      "Epoch 26/50\n",
      "173990/173990 [==============================] - 82s - loss: 0.2288 - acc: 0.9329 - val_loss: 0.1129 - val_acc: 0.9718\n",
      "Epoch 27/50\n",
      "173990/173990 [==============================] - 80s - loss: 0.2206 - acc: 0.9368 - val_loss: 0.0980 - val_acc: 0.9734\n",
      "Epoch 28/50\n",
      "173990/173990 [==============================] - 76s - loss: 0.2214 - acc: 0.9364 - val_loss: 0.0988 - val_acc: 0.9755\n",
      "Epoch 29/50\n",
      "173990/173990 [==============================] - 78s - loss: 0.2247 - acc: 0.9357 - val_loss: 0.1052 - val_acc: 0.9716\n",
      "Epoch 30/50\n",
      "173990/173990 [==============================] - 86s - loss: 0.2153 - acc: 0.9375 - val_loss: 0.0956 - val_acc: 0.9742\n",
      "Epoch 31/50\n",
      "173990/173990 [==============================] - 89s - loss: 0.2160 - acc: 0.9379 - val_loss: 0.0961 - val_acc: 0.9745\n",
      "Epoch 32/50\n",
      "173990/173990 [==============================] - 77s - loss: 0.2165 - acc: 0.9379 - val_loss: 0.0900 - val_acc: 0.9764\n",
      "Epoch 33/50\n",
      "173990/173990 [==============================] - 79s - loss: 0.2126 - acc: 0.9398 - val_loss: 0.0909 - val_acc: 0.9750\n",
      "Epoch 34/50\n",
      "173990/173990 [==============================] - 97s - loss: 0.2158 - acc: 0.9391 - val_loss: 0.0937 - val_acc: 0.9759\n",
      "Epoch 35/50\n",
      "173990/173990 [==============================] - 89s - loss: 0.2109 - acc: 0.9403 - val_loss: 0.1062 - val_acc: 0.9720\n",
      "Epoch 36/50\n",
      "173990/173990 [==============================] - 108s - loss: 0.2065 - acc: 0.9411 - val_loss: 0.0903 - val_acc: 0.9757\n",
      "Epoch 37/50\n",
      "173990/173990 [==============================] - 84s - loss: 0.2043 - acc: 0.9419 - val_loss: 0.0995 - val_acc: 0.9724\n",
      "Epoch 38/50\n",
      "173990/173990 [==============================] - 88s - loss: 0.2012 - acc: 0.9429 - val_loss: 0.0916 - val_acc: 0.9766\n",
      "Epoch 39/50\n",
      "173990/173990 [==============================] - 83s - loss: 0.2015 - acc: 0.9424 - val_loss: 0.0922 - val_acc: 0.9753\n",
      "Epoch 40/50\n",
      "173990/173990 [==============================] - 98s - loss: 0.2019 - acc: 0.9431 - val_loss: 0.0938 - val_acc: 0.9730\n",
      "Epoch 41/50\n",
      "173990/173990 [==============================] - 107s - loss: 0.1977 - acc: 0.9444 - val_loss: 0.0884 - val_acc: 0.9772\n",
      "Epoch 42/50\n",
      "173990/173990 [==============================] - 85s - loss: 0.2026 - acc: 0.9428 - val_loss: 0.0866 - val_acc: 0.9766\n",
      "Epoch 43/50\n",
      "173990/173990 [==============================] - 83s - loss: 0.1906 - acc: 0.9462 - val_loss: 0.0900 - val_acc: 0.9764\n",
      "Epoch 44/50\n",
      "173990/173990 [==============================] - 85s - loss: 0.1987 - acc: 0.9445 - val_loss: 0.0996 - val_acc: 0.9736\n",
      "Epoch 45/50\n",
      "173990/173990 [==============================] - 80s - loss: 0.2006 - acc: 0.9440 - val_loss: 0.0776 - val_acc: 0.9796\n",
      "Epoch 46/50\n",
      "173990/173990 [==============================] - 88s - loss: 0.1929 - acc: 0.9458 - val_loss: 0.0913 - val_acc: 0.9746\n",
      "Epoch 47/50\n",
      "173990/173990 [==============================] - 82s - loss: 0.1947 - acc: 0.9452 - val_loss: 0.0786 - val_acc: 0.9784\n",
      "Epoch 48/50\n",
      "173990/173990 [==============================] - 89s - loss: 0.1867 - acc: 0.9479 - val_loss: 0.0844 - val_acc: 0.9785\n",
      "Epoch 49/50\n",
      "173990/173990 [==============================] - 94s - loss: 0.1944 - acc: 0.9457 - val_loss: 0.0881 - val_acc: 0.9766\n",
      "Epoch 50/50\n",
      " 45312/173990 [======>.......................] - ETA: 70s - loss: 0.1788 - acc: 0.9490"
     ]
    }
   ],
   "source": [
    "# データで訓練\n",
    "model = build_model()\n",
    "history = model.fit(X_train, y_train, \n",
    "    nb_epoch=nb_epoch, \n",
    "    batch_size=batch_size,\n",
    "    validation_data=(X_test, y_test)\n",
    ")"
   ]
  },
  {
   "cell_type": "code",
   "execution_count": null,
   "metadata": {
    "collapsed": true
   },
   "outputs": [],
   "source": [
    "#学習モデルの保存\n",
    "json_string = model.to_json()\n",
    "\n",
    "#モデルのファイル名　拡張子.json\n",
    "open('logo_model.json', 'w').write(json_string)\n",
    "#重みファイルの保存 拡張子がhdf5\n",
    "model.save_weights('out/logo_model.hdf5')\n",
    " \n",
    "# モデルの評価を行う\n",
    "score = model.evaluate(X_test, y_test, verbose=1)\n",
    " \n",
    "print('loss=', score[0])\n",
    "print('accuracy=', score[1])\n",
    "    \n",
    "# modelに学習させた時の変化の様子をplot\n",
    "plot_history(history)"
   ]
  },
  {
   "cell_type": "code",
   "execution_count": null,
   "metadata": {
    "collapsed": true
   },
   "outputs": [],
   "source": []
  }
 ],
 "metadata": {
  "kernelspec": {
   "display_name": "Python 3",
   "language": "python",
   "name": "python3"
  },
  "language_info": {
   "codemirror_mode": {
    "name": "ipython",
    "version": 3
   },
   "file_extension": ".py",
   "mimetype": "text/x-python",
   "name": "python",
   "nbconvert_exporter": "python",
   "pygments_lexer": "ipython3",
   "version": "3.6.1"
  }
 },
 "nbformat": 4,
 "nbformat_minor": 2
}
